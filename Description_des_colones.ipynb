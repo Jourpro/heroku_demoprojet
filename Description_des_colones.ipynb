{
 "cells": [
  {
   "cell_type": "code",
   "execution_count": 3,
   "metadata": {},
   "outputs": [
    {
     "data": {
      "text/html": [
       "<div>\n",
       "<style scoped>\n",
       "    .dataframe tbody tr th:only-of-type {\n",
       "        vertical-align: middle;\n",
       "    }\n",
       "\n",
       "    .dataframe tbody tr th {\n",
       "        vertical-align: top;\n",
       "    }\n",
       "\n",
       "    .dataframe thead th {\n",
       "        text-align: right;\n",
       "    }\n",
       "</style>\n",
       "<table border=\"1\" class=\"dataframe\">\n",
       "  <thead>\n",
       "    <tr style=\"text-align: right;\">\n",
       "      <th></th>\n",
       "      <th>Unnamed: 0</th>\n",
       "      <th>Table</th>\n",
       "      <th>Row</th>\n",
       "      <th>Description</th>\n",
       "      <th>Special</th>\n",
       "    </tr>\n",
       "  </thead>\n",
       "  <tbody>\n",
       "    <tr>\n",
       "      <td>0</td>\n",
       "      <td>1</td>\n",
       "      <td>application_{train|test}.csv</td>\n",
       "      <td>SK_ID_CURR</td>\n",
       "      <td>ID of loan in our sample</td>\n",
       "      <td>NaN</td>\n",
       "    </tr>\n",
       "    <tr>\n",
       "      <td>1</td>\n",
       "      <td>2</td>\n",
       "      <td>application_{train|test}.csv</td>\n",
       "      <td>TARGET</td>\n",
       "      <td>Target variable (1 - client with payment diffi...</td>\n",
       "      <td>NaN</td>\n",
       "    </tr>\n",
       "    <tr>\n",
       "      <td>2</td>\n",
       "      <td>5</td>\n",
       "      <td>application_{train|test}.csv</td>\n",
       "      <td>NAME_CONTRACT_TYPE</td>\n",
       "      <td>Identification if loan is cash or revolving</td>\n",
       "      <td>NaN</td>\n",
       "    </tr>\n",
       "    <tr>\n",
       "      <td>3</td>\n",
       "      <td>6</td>\n",
       "      <td>application_{train|test}.csv</td>\n",
       "      <td>CODE_GENDER</td>\n",
       "      <td>Gender of the client</td>\n",
       "      <td>NaN</td>\n",
       "    </tr>\n",
       "    <tr>\n",
       "      <td>4</td>\n",
       "      <td>7</td>\n",
       "      <td>application_{train|test}.csv</td>\n",
       "      <td>FLAG_OWN_CAR</td>\n",
       "      <td>Flag if the client owns a car</td>\n",
       "      <td>NaN</td>\n",
       "    </tr>\n",
       "    <tr>\n",
       "      <td>5</td>\n",
       "      <td>8</td>\n",
       "      <td>application_{train|test}.csv</td>\n",
       "      <td>FLAG_OWN_REALTY</td>\n",
       "      <td>Flag if client owns a house or flat</td>\n",
       "      <td>NaN</td>\n",
       "    </tr>\n",
       "    <tr>\n",
       "      <td>6</td>\n",
       "      <td>9</td>\n",
       "      <td>application_{train|test}.csv</td>\n",
       "      <td>CNT_CHILDREN</td>\n",
       "      <td>Number of children the client has</td>\n",
       "      <td>NaN</td>\n",
       "    </tr>\n",
       "    <tr>\n",
       "      <td>7</td>\n",
       "      <td>10</td>\n",
       "      <td>application_{train|test}.csv</td>\n",
       "      <td>AMT_INCOME_TOTAL</td>\n",
       "      <td>Income of the client</td>\n",
       "      <td>NaN</td>\n",
       "    </tr>\n",
       "    <tr>\n",
       "      <td>8</td>\n",
       "      <td>11</td>\n",
       "      <td>application_{train|test}.csv</td>\n",
       "      <td>AMT_CREDIT</td>\n",
       "      <td>Credit amount of the loan</td>\n",
       "      <td>NaN</td>\n",
       "    </tr>\n",
       "    <tr>\n",
       "      <td>9</td>\n",
       "      <td>12</td>\n",
       "      <td>application_{train|test}.csv</td>\n",
       "      <td>AMT_ANNUITY</td>\n",
       "      <td>Loan annuity</td>\n",
       "      <td>NaN</td>\n",
       "    </tr>\n",
       "  </tbody>\n",
       "</table>\n",
       "</div>"
      ],
      "text/plain": [
       "   Unnamed: 0                         Table                 Row  \\\n",
       "0           1  application_{train|test}.csv          SK_ID_CURR   \n",
       "1           2  application_{train|test}.csv              TARGET   \n",
       "2           5  application_{train|test}.csv  NAME_CONTRACT_TYPE   \n",
       "3           6  application_{train|test}.csv         CODE_GENDER   \n",
       "4           7  application_{train|test}.csv        FLAG_OWN_CAR   \n",
       "5           8  application_{train|test}.csv     FLAG_OWN_REALTY   \n",
       "6           9  application_{train|test}.csv        CNT_CHILDREN   \n",
       "7          10  application_{train|test}.csv    AMT_INCOME_TOTAL   \n",
       "8          11  application_{train|test}.csv          AMT_CREDIT   \n",
       "9          12  application_{train|test}.csv         AMT_ANNUITY   \n",
       "\n",
       "                                         Description Special  \n",
       "0                           ID of loan in our sample     NaN  \n",
       "1  Target variable (1 - client with payment diffi...     NaN  \n",
       "2        Identification if loan is cash or revolving     NaN  \n",
       "3                               Gender of the client     NaN  \n",
       "4                      Flag if the client owns a car     NaN  \n",
       "5                Flag if client owns a house or flat     NaN  \n",
       "6                  Number of children the client has     NaN  \n",
       "7                               Income of the client     NaN  \n",
       "8                          Credit amount of the loan     NaN  \n",
       "9                                       Loan annuity     NaN  "
      ]
     },
     "execution_count": 3,
     "metadata": {},
     "output_type": "execute_result"
    }
   ],
   "source": [
    "# importations des librairies\n",
    "import matplotlib.pyplot as plt\n",
    "import pandas as pd\n",
    "import numpy as np\n",
    "\n",
    "# uploader le fichier du dataset principal en csv\n",
    "data6 = pd.read_csv('HomeCredit_columns_description.csv', encoding=\"cp1252\")\n",
    "data6.iloc[0:10]"
   ]
  },
  {
   "cell_type": "code",
   "execution_count": 29,
   "metadata": {},
   "outputs": [
    {
     "data": {
      "text/plain": [
       "'What was the prescribed installment amount of previous credit on this installment'"
      ]
     },
     "execution_count": 29,
     "metadata": {},
     "output_type": "execute_result"
    }
   ],
   "source": [
    "data6.loc[data6['Row'] == 'AMT_INSTALMENT']\n",
    "data6['Description'].iloc[217]"
   ]
  },
  {
   "cell_type": "code",
   "execution_count": 2,
   "metadata": {},
   "outputs": [
    {
     "data": {
      "text/plain": [
       "'Target variable (1 - client with payment difficulties: he/she had late payment more than X days on at least one of the first Y installments of the loan in our sample, 0 - all other cases)'"
      ]
     },
     "execution_count": 2,
     "metadata": {},
     "output_type": "execute_result"
    }
   ],
   "source": [
    "data6['Description'].iloc[1]"
   ]
  },
  {
   "cell_type": "code",
   "execution_count": 4,
   "metadata": {},
   "outputs": [
    {
     "data": {
      "text/html": [
       "<div>\n",
       "<style scoped>\n",
       "    .dataframe tbody tr th:only-of-type {\n",
       "        vertical-align: middle;\n",
       "    }\n",
       "\n",
       "    .dataframe tbody tr th {\n",
       "        vertical-align: top;\n",
       "    }\n",
       "\n",
       "    .dataframe thead th {\n",
       "        text-align: right;\n",
       "    }\n",
       "</style>\n",
       "<table border=\"1\" class=\"dataframe\">\n",
       "  <thead>\n",
       "    <tr style=\"text-align: right;\">\n",
       "      <th></th>\n",
       "      <th>Unnamed: 0</th>\n",
       "      <th>Table</th>\n",
       "      <th>Row</th>\n",
       "      <th>Description</th>\n",
       "      <th>Special</th>\n",
       "    </tr>\n",
       "  </thead>\n",
       "  <tbody>\n",
       "    <tr>\n",
       "      <td>21</td>\n",
       "      <td>24</td>\n",
       "      <td>application_{train|test}.csv</td>\n",
       "      <td>OWN_CAR_AGE</td>\n",
       "      <td>Age of client's car</td>\n",
       "      <td>NaN</td>\n",
       "    </tr>\n",
       "  </tbody>\n",
       "</table>\n",
       "</div>"
      ],
      "text/plain": [
       "    Unnamed: 0                         Table          Row  \\\n",
       "21          24  application_{train|test}.csv  OWN_CAR_AGE   \n",
       "\n",
       "            Description Special  \n",
       "21  Age of client's car     NaN  "
      ]
     },
     "execution_count": 4,
     "metadata": {},
     "output_type": "execute_result"
    }
   ],
   "source": [
    "#data6.loc[data6['Row'] == 'OWN_CAR_AGE']\n",
    "data6.loc[data6['Row'] == 'OWN_CAR_AGE']"
   ]
  },
  {
   "cell_type": "code",
   "execution_count": 19,
   "metadata": {},
   "outputs": [
    {
     "data": {
      "text/plain": [
       "'Number of enquiries to Credit Bureau about the client one month before application (excluding one week before application)'"
      ]
     },
     "execution_count": 19,
     "metadata": {},
     "output_type": "execute_result"
    }
   ],
   "source": [
    "list_row1 = ['AMT_REQ_CREDIT_BUREAU_HOUR',\n",
    " 'AMT_REQ_CREDIT_BUREAU_DAY',\n",
    " 'AMT_REQ_CREDIT_BUREAU_WEEK',\n",
    " 'AMT_REQ_CREDIT_BUREAU_MON',\n",
    " 'AMT_REQ_CREDIT_BUREAU_QRT',\n",
    " 'AMT_REQ_CREDIT_BUREAU_YEAR']\n",
    "data6.loc[data6['Row'].isin(list_row1)]\n",
    "data6['Description'].iloc[119]\n",
    "# maybe summing up the credit enquiries"
   ]
  },
  {
   "cell_type": "code",
   "execution_count": 3,
   "metadata": {},
   "outputs": [
    {
     "data": {
      "text/plain": [
       "(219, 5)"
      ]
     },
     "execution_count": 3,
     "metadata": {},
     "output_type": "execute_result"
    }
   ],
   "source": [
    "data6.shape"
   ]
  },
  {
   "cell_type": "code",
   "execution_count": 37,
   "metadata": {},
   "outputs": [
    {
     "data": {
      "text/plain": [
       "'Normalized information about building where the client lives, What is average (_AVG suffix), modus (_MODE suffix), median (_MEDI suffix) apartment size, common area, living area, age of building, number of elevators, number of entrances, state of the building, number of floor'"
      ]
     },
     "execution_count": 37,
     "metadata": {},
     "output_type": "execute_result"
    }
   ],
   "source": [
    "list_row2 = ['FONDKAPREMONT_MODE',\n",
    " 'HOUSETYPE_MODE',\n",
    " 'TOTALAREA_MODE',\n",
    " 'WALLSMATERIAL_MODE',\n",
    " 'EMERGENCYSTATE_MODE',\n",
    " 'OBS_30_CNT_SOCIAL_CIRCLE',\n",
    " 'DEF_30_CNT_SOCIAL_CIRCLE',\n",
    " 'OBS_60_CNT_SOCIAL_CIRCLE',\n",
    " 'DEF_60_CNT_SOCIAL_CIRCLE',\n",
    " 'DAYS_LAST_PHONE_CHANGE']\n",
    "data6.loc[data6['Row'].isin(list_row2)]\n",
    "#data6['Description'].iloc[90]"
   ]
  },
  {
   "cell_type": "code",
   "execution_count": 38,
   "metadata": {},
   "outputs": [
    {
     "data": {
      "text/html": [
       "<div>\n",
       "<style scoped>\n",
       "    .dataframe tbody tr th:only-of-type {\n",
       "        vertical-align: middle;\n",
       "    }\n",
       "\n",
       "    .dataframe tbody tr th {\n",
       "        vertical-align: top;\n",
       "    }\n",
       "\n",
       "    .dataframe thead th {\n",
       "        text-align: right;\n",
       "    }\n",
       "</style>\n",
       "<table border=\"1\" class=\"dataframe\">\n",
       "  <thead>\n",
       "    <tr style=\"text-align: right;\">\n",
       "      <th></th>\n",
       "      <th>Unnamed: 0</th>\n",
       "      <th>Table</th>\n",
       "      <th>Row</th>\n",
       "      <th>Description</th>\n",
       "      <th>Special</th>\n",
       "    </tr>\n",
       "  </thead>\n",
       "  <tbody>\n",
       "    <tr>\n",
       "      <td>72</td>\n",
       "      <td>75</td>\n",
       "      <td>application_{train|test}.csv</td>\n",
       "      <td>APARTMENTS_MEDI</td>\n",
       "      <td>Normalized information about building where th...</td>\n",
       "      <td>normalized</td>\n",
       "    </tr>\n",
       "    <tr>\n",
       "      <td>73</td>\n",
       "      <td>76</td>\n",
       "      <td>application_{train|test}.csv</td>\n",
       "      <td>BASEMENTAREA_MEDI</td>\n",
       "      <td>Normalized information about building where th...</td>\n",
       "      <td>normalized</td>\n",
       "    </tr>\n",
       "    <tr>\n",
       "      <td>74</td>\n",
       "      <td>77</td>\n",
       "      <td>application_{train|test}.csv</td>\n",
       "      <td>YEARS_BEGINEXPLUATATION_MEDI</td>\n",
       "      <td>Normalized information about building where th...</td>\n",
       "      <td>normalized</td>\n",
       "    </tr>\n",
       "    <tr>\n",
       "      <td>75</td>\n",
       "      <td>78</td>\n",
       "      <td>application_{train|test}.csv</td>\n",
       "      <td>YEARS_BUILD_MEDI</td>\n",
       "      <td>Normalized information about building where th...</td>\n",
       "      <td>normalized</td>\n",
       "    </tr>\n",
       "    <tr>\n",
       "      <td>76</td>\n",
       "      <td>79</td>\n",
       "      <td>application_{train|test}.csv</td>\n",
       "      <td>COMMONAREA_MEDI</td>\n",
       "      <td>Normalized information about building where th...</td>\n",
       "      <td>normalized</td>\n",
       "    </tr>\n",
       "    <tr>\n",
       "      <td>77</td>\n",
       "      <td>80</td>\n",
       "      <td>application_{train|test}.csv</td>\n",
       "      <td>ELEVATORS_MEDI</td>\n",
       "      <td>Normalized information about building where th...</td>\n",
       "      <td>normalized</td>\n",
       "    </tr>\n",
       "    <tr>\n",
       "      <td>78</td>\n",
       "      <td>81</td>\n",
       "      <td>application_{train|test}.csv</td>\n",
       "      <td>ENTRANCES_MEDI</td>\n",
       "      <td>Normalized information about building where th...</td>\n",
       "      <td>normalized</td>\n",
       "    </tr>\n",
       "    <tr>\n",
       "      <td>79</td>\n",
       "      <td>82</td>\n",
       "      <td>application_{train|test}.csv</td>\n",
       "      <td>FLOORSMAX_MEDI</td>\n",
       "      <td>Normalized information about building where th...</td>\n",
       "      <td>normalized</td>\n",
       "    </tr>\n",
       "    <tr>\n",
       "      <td>80</td>\n",
       "      <td>83</td>\n",
       "      <td>application_{train|test}.csv</td>\n",
       "      <td>FLOORSMIN_MEDI</td>\n",
       "      <td>Normalized information about building where th...</td>\n",
       "      <td>normalized</td>\n",
       "    </tr>\n",
       "    <tr>\n",
       "      <td>81</td>\n",
       "      <td>84</td>\n",
       "      <td>application_{train|test}.csv</td>\n",
       "      <td>LANDAREA_MEDI</td>\n",
       "      <td>Normalized information about building where th...</td>\n",
       "      <td>normalized</td>\n",
       "    </tr>\n",
       "    <tr>\n",
       "      <td>82</td>\n",
       "      <td>85</td>\n",
       "      <td>application_{train|test}.csv</td>\n",
       "      <td>LIVINGAPARTMENTS_MEDI</td>\n",
       "      <td>Normalized information about building where th...</td>\n",
       "      <td>normalized</td>\n",
       "    </tr>\n",
       "    <tr>\n",
       "      <td>83</td>\n",
       "      <td>86</td>\n",
       "      <td>application_{train|test}.csv</td>\n",
       "      <td>LIVINGAREA_MEDI</td>\n",
       "      <td>Normalized information about building where th...</td>\n",
       "      <td>normalized</td>\n",
       "    </tr>\n",
       "    <tr>\n",
       "      <td>84</td>\n",
       "      <td>87</td>\n",
       "      <td>application_{train|test}.csv</td>\n",
       "      <td>NONLIVINGAPARTMENTS_MEDI</td>\n",
       "      <td>Normalized information about building where th...</td>\n",
       "      <td>normalized</td>\n",
       "    </tr>\n",
       "    <tr>\n",
       "      <td>85</td>\n",
       "      <td>88</td>\n",
       "      <td>application_{train|test}.csv</td>\n",
       "      <td>NONLIVINGAREA_MEDI</td>\n",
       "      <td>Normalized information about building where th...</td>\n",
       "      <td>normalized</td>\n",
       "    </tr>\n",
       "  </tbody>\n",
       "</table>\n",
       "</div>"
      ],
      "text/plain": [
       "    Unnamed: 0                         Table                           Row  \\\n",
       "72          75  application_{train|test}.csv               APARTMENTS_MEDI   \n",
       "73          76  application_{train|test}.csv             BASEMENTAREA_MEDI   \n",
       "74          77  application_{train|test}.csv  YEARS_BEGINEXPLUATATION_MEDI   \n",
       "75          78  application_{train|test}.csv              YEARS_BUILD_MEDI   \n",
       "76          79  application_{train|test}.csv               COMMONAREA_MEDI   \n",
       "77          80  application_{train|test}.csv                ELEVATORS_MEDI   \n",
       "78          81  application_{train|test}.csv                ENTRANCES_MEDI   \n",
       "79          82  application_{train|test}.csv                FLOORSMAX_MEDI   \n",
       "80          83  application_{train|test}.csv                FLOORSMIN_MEDI   \n",
       "81          84  application_{train|test}.csv                 LANDAREA_MEDI   \n",
       "82          85  application_{train|test}.csv         LIVINGAPARTMENTS_MEDI   \n",
       "83          86  application_{train|test}.csv               LIVINGAREA_MEDI   \n",
       "84          87  application_{train|test}.csv      NONLIVINGAPARTMENTS_MEDI   \n",
       "85          88  application_{train|test}.csv            NONLIVINGAREA_MEDI   \n",
       "\n",
       "                                          Description     Special  \n",
       "72  Normalized information about building where th...  normalized  \n",
       "73  Normalized information about building where th...  normalized  \n",
       "74  Normalized information about building where th...  normalized  \n",
       "75  Normalized information about building where th...  normalized  \n",
       "76  Normalized information about building where th...  normalized  \n",
       "77  Normalized information about building where th...  normalized  \n",
       "78  Normalized information about building where th...  normalized  \n",
       "79  Normalized information about building where th...  normalized  \n",
       "80  Normalized information about building where th...  normalized  \n",
       "81  Normalized information about building where th...  normalized  \n",
       "82  Normalized information about building where th...  normalized  \n",
       "83  Normalized information about building where th...  normalized  \n",
       "84  Normalized information about building where th...  normalized  \n",
       "85  Normalized information about building where th...  normalized  "
      ]
     },
     "execution_count": 38,
     "metadata": {},
     "output_type": "execute_result"
    }
   ],
   "source": [
    "list_row3 = ['APARTMENTS_MEDI',\n",
    " 'BASEMENTAREA_MEDI',\n",
    " 'YEARS_BEGINEXPLUATATION_MEDI',\n",
    " 'YEARS_BUILD_MEDI',\n",
    " 'COMMONAREA_MEDI',\n",
    " 'ELEVATORS_MEDI',\n",
    " 'ENTRANCES_MEDI',\n",
    " 'FLOORSMAX_MEDI',\n",
    " 'FLOORSMIN_MEDI',\n",
    " 'LANDAREA_MEDI',\n",
    " 'LIVINGAPARTMENTS_MEDI',\n",
    " 'LIVINGAREA_MEDI',\n",
    " 'NONLIVINGAPARTMENTS_MEDI',\n",
    " 'NONLIVINGAREA_MEDI']\n",
    "data6.loc[data6['Row'].isin(list_row3)]\n",
    "#data6['Description'].iloc[90]"
   ]
  },
  {
   "cell_type": "code",
   "execution_count": 42,
   "metadata": {},
   "outputs": [
    {
     "data": {
      "text/plain": [
       "'Who accompanied client when applying for the previous application'"
      ]
     },
     "execution_count": 42,
     "metadata": {},
     "output_type": "execute_result"
    }
   ],
   "source": [
    "data6.loc[data6['Row'] == 'NAME_TYPE_SUITE']\n",
    "data6['Description'].iloc[194]"
   ]
  },
  {
   "cell_type": "code",
   "execution_count": 44,
   "metadata": {},
   "outputs": [
    {
     "data": {
      "text/plain": [
       "'What is the housing situation of the client (renting, living with parents, ...)'"
      ]
     },
     "execution_count": 44,
     "metadata": {},
     "output_type": "execute_result"
    }
   ],
   "source": [
    "data6.loc[data6['Row'] == 'NAME_HOUSING_TYPE']\n",
    "data6['Description'].iloc[15]"
   ]
  },
  {
   "cell_type": "code",
   "execution_count": 46,
   "metadata": {},
   "outputs": [
    {
     "data": {
      "text/plain": [
       "'On which day of the week did the client apply for the loan'"
      ]
     },
     "execution_count": 46,
     "metadata": {},
     "output_type": "execute_result"
    }
   ],
   "source": [
    "data6.loc[data6['Row'] == 'WEEKDAY_APPR_PROCESS_START']\n",
    "data6['Description'].iloc[32]"
   ]
  },
  {
   "cell_type": "code",
   "execution_count": 49,
   "metadata": {},
   "outputs": [
    {
     "data": {
      "text/plain": [
       "'Number of children the client has'"
      ]
     },
     "execution_count": 49,
     "metadata": {},
     "output_type": "execute_result"
    }
   ],
   "source": [
    "data6.loc[data6['Row'] == 'CNT_CHILDREN']\n",
    "#data6['Description'].iloc[6]"
   ]
  },
  {
   "cell_type": "code",
   "execution_count": 50,
   "metadata": {},
   "outputs": [
    {
     "data": {
      "text/html": [
       "<div>\n",
       "<style scoped>\n",
       "    .dataframe tbody tr th:only-of-type {\n",
       "        vertical-align: middle;\n",
       "    }\n",
       "\n",
       "    .dataframe tbody tr th {\n",
       "        vertical-align: top;\n",
       "    }\n",
       "\n",
       "    .dataframe thead th {\n",
       "        text-align: right;\n",
       "    }\n",
       "</style>\n",
       "<table border=\"1\" class=\"dataframe\">\n",
       "  <thead>\n",
       "    <tr style=\"text-align: right;\">\n",
       "      <th></th>\n",
       "      <th>Unnamed: 0</th>\n",
       "      <th>Table</th>\n",
       "      <th>Row</th>\n",
       "      <th>Description</th>\n",
       "      <th>Special</th>\n",
       "    </tr>\n",
       "  </thead>\n",
       "  <tbody>\n",
       "    <tr>\n",
       "      <td>9</td>\n",
       "      <td>12</td>\n",
       "      <td>application_{train|test}.csv</td>\n",
       "      <td>AMT_ANNUITY</td>\n",
       "      <td>Loan annuity</td>\n",
       "      <td>NaN</td>\n",
       "    </tr>\n",
       "    <tr>\n",
       "      <td>138</td>\n",
       "      <td>141</td>\n",
       "      <td>bureau.csv</td>\n",
       "      <td>AMT_ANNUITY</td>\n",
       "      <td>Annuity of the Credit Bureau credit</td>\n",
       "      <td>NaN</td>\n",
       "    </tr>\n",
       "    <tr>\n",
       "      <td>176</td>\n",
       "      <td>179</td>\n",
       "      <td>previous_application.csv</td>\n",
       "      <td>AMT_ANNUITY</td>\n",
       "      <td>Annuity of previous application</td>\n",
       "      <td>NaN</td>\n",
       "    </tr>\n",
       "  </tbody>\n",
       "</table>\n",
       "</div>"
      ],
      "text/plain": [
       "     Unnamed: 0                         Table          Row  \\\n",
       "9            12  application_{train|test}.csv  AMT_ANNUITY   \n",
       "138         141                    bureau.csv  AMT_ANNUITY   \n",
       "176         179      previous_application.csv  AMT_ANNUITY   \n",
       "\n",
       "                             Description Special  \n",
       "9                           Loan annuity     NaN  \n",
       "138  Annuity of the Credit Bureau credit     NaN  \n",
       "176      Annuity of previous application     NaN  "
      ]
     },
     "execution_count": 50,
     "metadata": {},
     "output_type": "execute_result"
    }
   ],
   "source": [
    "data6.loc[data6['Row'] == 'AMT_ANNUITY']"
   ]
  },
  {
   "cell_type": "code",
   "execution_count": 54,
   "metadata": {},
   "outputs": [
    {
     "data": {
      "text/plain": [
       "'Goods price of good that client asked for (if applicable) on the previous application'"
      ]
     },
     "execution_count": 54,
     "metadata": {},
     "output_type": "execute_result"
    }
   ],
   "source": [
    "data6.loc[data6['Row'] == 'AMT_GOODS_PRICE']\n",
    "data6['Description'].iloc[180]"
   ]
  },
  {
   "cell_type": "code",
   "execution_count": 56,
   "metadata": {},
   "outputs": [
    {
     "data": {
      "text/plain": [
       "'Normalized population of region where client lives (higher number means the client lives in more populated region)'"
      ]
     },
     "execution_count": 56,
     "metadata": {},
     "output_type": "execute_result"
    }
   ],
   "source": [
    "data6.loc[data6['Row'] == 'REGION_POPULATION_RELATIVE']\n",
    "data6['Description'].iloc[16]"
   ]
  },
  {
   "cell_type": "code",
   "execution_count": 9,
   "metadata": {},
   "outputs": [
    {
     "data": {
      "text/plain": [
       "'Normalized information about building where the client lives, What is average (_AVG suffix), modus (_MODE suffix), median (_MEDI suffix) apartment size, common area, living area, age of building, number of elevators, number of entrances, state of the building, number of floor'"
      ]
     },
     "execution_count": 9,
     "metadata": {},
     "output_type": "execute_result"
    }
   ],
   "source": [
    "data6.loc[data6['Row'] == 'FONDKAPREMONT_MODE']\n",
    "data6['Description'].iloc[86]"
   ]
  },
  {
   "cell_type": "code",
   "execution_count": 60,
   "metadata": {},
   "outputs": [
    {
     "data": {
      "text/plain": [
       "[\"Client's age in days at the time of application\",\n",
       " 'How many days before the application the person started current employment',\n",
       " 'How many days before the application did client change his registration',\n",
       " 'How many days before the application did client change the identity document with which he applied for the loan']"
      ]
     },
     "execution_count": 60,
     "metadata": {},
     "output_type": "execute_result"
    }
   ],
   "source": [
    "#data6.loc[data6['Row'] == 'DAYS_BIRTH']\n",
    "data6.loc[data6['Row'].isin(['DAYS_BIRTH','DAYS_EMPLOYED','DAYS_REGISTRATION','DAYS_ID_PUBLISH'])]\n",
    "data6['Description'].iloc[17:21].tolist()"
   ]
  },
  {
   "cell_type": "code",
   "execution_count": 62,
   "metadata": {},
   "outputs": [
    {
     "data": {
      "text/html": [
       "<div>\n",
       "<style scoped>\n",
       "    .dataframe tbody tr th:only-of-type {\n",
       "        vertical-align: middle;\n",
       "    }\n",
       "\n",
       "    .dataframe tbody tr th {\n",
       "        vertical-align: top;\n",
       "    }\n",
       "\n",
       "    .dataframe thead th {\n",
       "        text-align: right;\n",
       "    }\n",
       "</style>\n",
       "<table border=\"1\" class=\"dataframe\">\n",
       "  <thead>\n",
       "    <tr style=\"text-align: right;\">\n",
       "      <th></th>\n",
       "      <th>Unnamed: 0</th>\n",
       "      <th>Table</th>\n",
       "      <th>Row</th>\n",
       "      <th>Description</th>\n",
       "      <th>Special</th>\n",
       "    </tr>\n",
       "  </thead>\n",
       "  <tbody>\n",
       "    <tr>\n",
       "      <td>22</td>\n",
       "      <td>25</td>\n",
       "      <td>application_{train|test}.csv</td>\n",
       "      <td>FLAG_MOBIL</td>\n",
       "      <td>Did client provide mobile phone (1=YES, 0=NO)</td>\n",
       "      <td>NaN</td>\n",
       "    </tr>\n",
       "    <tr>\n",
       "      <td>23</td>\n",
       "      <td>26</td>\n",
       "      <td>application_{train|test}.csv</td>\n",
       "      <td>FLAG_EMP_PHONE</td>\n",
       "      <td>Did client provide work phone (1=YES, 0=NO)</td>\n",
       "      <td>NaN</td>\n",
       "    </tr>\n",
       "    <tr>\n",
       "      <td>24</td>\n",
       "      <td>27</td>\n",
       "      <td>application_{train|test}.csv</td>\n",
       "      <td>FLAG_WORK_PHONE</td>\n",
       "      <td>Did client provide home phone (1=YES, 0=NO)</td>\n",
       "      <td>NaN</td>\n",
       "    </tr>\n",
       "    <tr>\n",
       "      <td>25</td>\n",
       "      <td>28</td>\n",
       "      <td>application_{train|test}.csv</td>\n",
       "      <td>FLAG_CONT_MOBILE</td>\n",
       "      <td>Was mobile phone reachable (1=YES, 0=NO)</td>\n",
       "      <td>NaN</td>\n",
       "    </tr>\n",
       "    <tr>\n",
       "      <td>26</td>\n",
       "      <td>29</td>\n",
       "      <td>application_{train|test}.csv</td>\n",
       "      <td>FLAG_PHONE</td>\n",
       "      <td>Did client provide home phone (1=YES, 0=NO)</td>\n",
       "      <td>NaN</td>\n",
       "    </tr>\n",
       "    <tr>\n",
       "      <td>27</td>\n",
       "      <td>30</td>\n",
       "      <td>application_{train|test}.csv</td>\n",
       "      <td>FLAG_EMAIL</td>\n",
       "      <td>Did client provide email (1=YES, 0=NO)</td>\n",
       "      <td>NaN</td>\n",
       "    </tr>\n",
       "  </tbody>\n",
       "</table>\n",
       "</div>"
      ],
      "text/plain": [
       "    Unnamed: 0                         Table               Row  \\\n",
       "22          25  application_{train|test}.csv        FLAG_MOBIL   \n",
       "23          26  application_{train|test}.csv    FLAG_EMP_PHONE   \n",
       "24          27  application_{train|test}.csv   FLAG_WORK_PHONE   \n",
       "25          28  application_{train|test}.csv  FLAG_CONT_MOBILE   \n",
       "26          29  application_{train|test}.csv        FLAG_PHONE   \n",
       "27          30  application_{train|test}.csv        FLAG_EMAIL   \n",
       "\n",
       "                                      Description Special  \n",
       "22  Did client provide mobile phone (1=YES, 0=NO)     NaN  \n",
       "23    Did client provide work phone (1=YES, 0=NO)     NaN  \n",
       "24    Did client provide home phone (1=YES, 0=NO)     NaN  \n",
       "25       Was mobile phone reachable (1=YES, 0=NO)     NaN  \n",
       "26    Did client provide home phone (1=YES, 0=NO)     NaN  \n",
       "27         Did client provide email (1=YES, 0=NO)     NaN  "
      ]
     },
     "execution_count": 62,
     "metadata": {},
     "output_type": "execute_result"
    }
   ],
   "source": [
    "data6.loc[data6['Row'].isin(['FLAG_MOBIL','FLAG_EMP_PHONE','FLAG_WORK_PHONE','FLAG_CONT_MOBILE','FLAG_PHONE','FLAG_EMAIL'])]"
   ]
  },
  {
   "cell_type": "code",
   "execution_count": 17,
   "metadata": {},
   "outputs": [
    {
     "data": {
      "text/plain": [
       "['How many family members does client have',\n",
       " 'Our rating of the region where client lives (1,2,3)',\n",
       " 'Our rating of the region where client lives with taking city into account (1,2,3)',\n",
       " 'On which day of the week did the client apply for the loan',\n",
       " 'Approximately at what hour did the client apply for the loan',\n",
       " \"Flag if client's permanent address does not match contact address (1=different, 0=same, at region level)\",\n",
       " \"Flag if client's permanent address does not match work address (1=different, 0=same, at region level)\",\n",
       " \"Flag if client's contact address does not match work address (1=different, 0=same, at region level)\",\n",
       " \"Flag if client's permanent address does not match contact address (1=different, 0=same, at city level)\",\n",
       " \"Flag if client's permanent address does not match work address (1=different, 0=same, at city level)\",\n",
       " \"Flag if client's contact address does not match work address (1=different, 0=same, at city level)\"]"
      ]
     },
     "execution_count": 17,
     "metadata": {},
     "output_type": "execute_result"
    }
   ],
   "source": [
    "data6.loc[data6['Row'].isin(['CNT_FAM_MEMBERS',\n",
    "                             'REGION_RATING_CLIENT',\n",
    "                             'REGION_RATING_CLIENT_W_CITY',\n",
    "                             'WEEKDAY_APPR_PROCESS_START',\n",
    "                             'HOUR_APPR_PROCESS_START',\n",
    "                             'REG_REGION_NOT_LIVE_REGION',\n",
    "                             'REG_REGION_NOT_WORK_REGION',\n",
    "                             'LIVE_REGION_NOT_WORK_REGION',\n",
    "                             'LIVE_CITY_NOT_WORK_CITY',\n",
    "                             'REG_CITY_NOT_LIVE_CITY',\n",
    "                             'REG_CITY_NOT_WORK_CITY'])]\n",
    "data6['Description'].iloc[29:40].tolist()"
   ]
  },
  {
   "cell_type": "code",
   "execution_count": 7,
   "metadata": {},
   "outputs": [
    {
     "data": {
      "text/plain": [
       "['Normalized score from external data source',\n",
       " 'Normalized score from external data source',\n",
       " 'Normalized score from external data source']"
      ]
     },
     "execution_count": 7,
     "metadata": {},
     "output_type": "execute_result"
    }
   ],
   "source": [
    "data6.iloc[40:50]\n",
    "data6['Description'].iloc[41:44].tolist() #external source"
   ]
  },
  {
   "cell_type": "code",
   "execution_count": 73,
   "metadata": {},
   "outputs": [
    {
     "data": {
      "text/plain": [
       "['On which day of the week did the client apply for previous application',\n",
       " 'Approximately at what day hour did the client apply for the previous application']"
      ]
     },
     "execution_count": 73,
     "metadata": {},
     "output_type": "execute_result"
    }
   ],
   "source": [
    "data6['Description'].iloc[181:183].tolist()"
   ]
  },
  {
   "cell_type": "code",
   "execution_count": 22,
   "metadata": {},
   "outputs": [
    {
     "data": {
      "text/plain": [
       "'Normalized information about building where the client lives, What is average (_AVG suffix), modus (_MODE suffix), median (_MEDI suffix) apartment size, common area, living area, age of building, number of elevators, number of entrances, state of the building, number of floor'"
      ]
     },
     "execution_count": 22,
     "metadata": {},
     "output_type": "execute_result"
    }
   ],
   "source": [
    "data6.loc[data6['Row'].isin(['EXT_SOURCE_1',\n",
    "                             'EXT_SOURCE_2',\n",
    "                             'EXT_SOURCE_3',\n",
    "                             'APARTMENTS_AVG',\n",
    "                             'BASEMENTAREA_AVG',\n",
    "                             'YEARS_BEGINEXPLUATATION_AVG',\n",
    "                             'YEARS_BUILD_AVG',\n",
    "                             'NONLIVINGAREA_MODE',\n",
    "                             'TOTALAREA_MODE'])]\n",
    "#data6['Description'].iloc[44:51].tolist()\n",
    "data6['Description'].iloc[88]"
   ]
  },
  {
   "cell_type": "code",
   "execution_count": 78,
   "metadata": {},
   "outputs": [
    {
     "data": {
      "text/html": [
       "<div>\n",
       "<style scoped>\n",
       "    .dataframe tbody tr th:only-of-type {\n",
       "        vertical-align: middle;\n",
       "    }\n",
       "\n",
       "    .dataframe tbody tr th {\n",
       "        vertical-align: top;\n",
       "    }\n",
       "\n",
       "    .dataframe thead th {\n",
       "        text-align: right;\n",
       "    }\n",
       "</style>\n",
       "<table border=\"1\" class=\"dataframe\">\n",
       "  <thead>\n",
       "    <tr style=\"text-align: right;\">\n",
       "      <th></th>\n",
       "      <th>Unnamed: 0</th>\n",
       "      <th>Table</th>\n",
       "      <th>Row</th>\n",
       "      <th>Description</th>\n",
       "      <th>Special</th>\n",
       "    </tr>\n",
       "  </thead>\n",
       "  <tbody>\n",
       "    <tr>\n",
       "      <td>91</td>\n",
       "      <td>94</td>\n",
       "      <td>application_{train|test}.csv</td>\n",
       "      <td>OBS_30_CNT_SOCIAL_CIRCLE</td>\n",
       "      <td>How many observation of client's social surrou...</td>\n",
       "      <td>NaN</td>\n",
       "    </tr>\n",
       "    <tr>\n",
       "      <td>92</td>\n",
       "      <td>95</td>\n",
       "      <td>application_{train|test}.csv</td>\n",
       "      <td>DEF_30_CNT_SOCIAL_CIRCLE</td>\n",
       "      <td>How many observation of client's social surrou...</td>\n",
       "      <td>NaN</td>\n",
       "    </tr>\n",
       "    <tr>\n",
       "      <td>93</td>\n",
       "      <td>96</td>\n",
       "      <td>application_{train|test}.csv</td>\n",
       "      <td>OBS_60_CNT_SOCIAL_CIRCLE</td>\n",
       "      <td>How many observation of client's social surrou...</td>\n",
       "      <td>NaN</td>\n",
       "    </tr>\n",
       "    <tr>\n",
       "      <td>94</td>\n",
       "      <td>97</td>\n",
       "      <td>application_{train|test}.csv</td>\n",
       "      <td>DEF_60_CNT_SOCIAL_CIRCLE</td>\n",
       "      <td>How many observation of client's social surrou...</td>\n",
       "      <td>NaN</td>\n",
       "    </tr>\n",
       "  </tbody>\n",
       "</table>\n",
       "</div>"
      ],
      "text/plain": [
       "    Unnamed: 0                         Table                       Row  \\\n",
       "91          94  application_{train|test}.csv  OBS_30_CNT_SOCIAL_CIRCLE   \n",
       "92          95  application_{train|test}.csv  DEF_30_CNT_SOCIAL_CIRCLE   \n",
       "93          96  application_{train|test}.csv  OBS_60_CNT_SOCIAL_CIRCLE   \n",
       "94          97  application_{train|test}.csv  DEF_60_CNT_SOCIAL_CIRCLE   \n",
       "\n",
       "                                          Description Special  \n",
       "91  How many observation of client's social surrou...     NaN  \n",
       "92  How many observation of client's social surrou...     NaN  \n",
       "93  How many observation of client's social surrou...     NaN  \n",
       "94  How many observation of client's social surrou...     NaN  "
      ]
     },
     "execution_count": 78,
     "metadata": {},
     "output_type": "execute_result"
    }
   ],
   "source": [
    "data6.loc[data6['Row'].isin(['OBS_30_CNT_SOCIAL_CIRCLE'\n",
    "                             ,'DEF_30_CNT_SOCIAL_CIRCLE'\n",
    "                             ,'OBS_60_CNT_SOCIAL_CIRCLE'\n",
    "                             ,'DEF_60_CNT_SOCIAL_CIRCLE'])]"
   ]
  },
  {
   "cell_type": "code",
   "execution_count": 79,
   "metadata": {},
   "outputs": [
    {
     "data": {
      "text/plain": [
       "[\"How many observation of client's social surroundings with observable 30 DPD (days past due) default\",\n",
       " \"How many observation of client's social surroundings defaulted on 30 DPD (days past due) \",\n",
       " \"How many observation of client's social surroundings with observable 60 DPD (days past due) default\",\n",
       " \"How many observation of client's social surroundings defaulted on 60 (days past due) DPD\"]"
      ]
     },
     "execution_count": 79,
     "metadata": {},
     "output_type": "execute_result"
    }
   ],
   "source": [
    "data6['Description'].iloc[91:95].tolist()"
   ]
  },
  {
   "cell_type": "code",
   "execution_count": 32,
   "metadata": {},
   "outputs": [
    {
     "data": {
      "text/html": [
       "<div>\n",
       "<style scoped>\n",
       "    .dataframe tbody tr th:only-of-type {\n",
       "        vertical-align: middle;\n",
       "    }\n",
       "\n",
       "    .dataframe tbody tr th {\n",
       "        vertical-align: top;\n",
       "    }\n",
       "\n",
       "    .dataframe thead th {\n",
       "        text-align: right;\n",
       "    }\n",
       "</style>\n",
       "<table border=\"1\" class=\"dataframe\">\n",
       "  <thead>\n",
       "    <tr style=\"text-align: right;\">\n",
       "      <th></th>\n",
       "      <th>Unnamed: 0</th>\n",
       "      <th>Table</th>\n",
       "      <th>Row</th>\n",
       "      <th>Description</th>\n",
       "      <th>Special</th>\n",
       "    </tr>\n",
       "  </thead>\n",
       "  <tbody>\n",
       "    <tr>\n",
       "      <td>124</td>\n",
       "      <td>127</td>\n",
       "      <td>bureau.csv</td>\n",
       "      <td>CREDIT_ACTIVE</td>\n",
       "      <td>Status of the Credit Bureau (CB) reported credits</td>\n",
       "      <td>NaN</td>\n",
       "    </tr>\n",
       "    <tr>\n",
       "      <td>125</td>\n",
       "      <td>128</td>\n",
       "      <td>bureau.csv</td>\n",
       "      <td>CREDIT_CURRENCY</td>\n",
       "      <td>Recoded currency of the Credit Bureau credit</td>\n",
       "      <td>recoded</td>\n",
       "    </tr>\n",
       "    <tr>\n",
       "      <td>126</td>\n",
       "      <td>129</td>\n",
       "      <td>bureau.csv</td>\n",
       "      <td>DAYS_CREDIT</td>\n",
       "      <td>How many days before current application did c...</td>\n",
       "      <td>time only relative to the application</td>\n",
       "    </tr>\n",
       "    <tr>\n",
       "      <td>127</td>\n",
       "      <td>130</td>\n",
       "      <td>bureau.csv</td>\n",
       "      <td>CREDIT_DAY_OVERDUE</td>\n",
       "      <td>Number of days past due on CB credit at the ti...</td>\n",
       "      <td>NaN</td>\n",
       "    </tr>\n",
       "    <tr>\n",
       "      <td>128</td>\n",
       "      <td>131</td>\n",
       "      <td>bureau.csv</td>\n",
       "      <td>DAYS_CREDIT_ENDDATE</td>\n",
       "      <td>Remaining duration of CB credit (in days) at t...</td>\n",
       "      <td>time only relative to the application</td>\n",
       "    </tr>\n",
       "    <tr>\n",
       "      <td>129</td>\n",
       "      <td>132</td>\n",
       "      <td>bureau.csv</td>\n",
       "      <td>DAYS_ENDDATE_FACT</td>\n",
       "      <td>Days since CB credit ended at the time of appl...</td>\n",
       "      <td>time only relative to the application</td>\n",
       "    </tr>\n",
       "    <tr>\n",
       "      <td>130</td>\n",
       "      <td>133</td>\n",
       "      <td>bureau.csv</td>\n",
       "      <td>AMT_CREDIT_MAX_OVERDUE</td>\n",
       "      <td>Maximal amount overdue on the Credit Bureau cr...</td>\n",
       "      <td>NaN</td>\n",
       "    </tr>\n",
       "    <tr>\n",
       "      <td>131</td>\n",
       "      <td>134</td>\n",
       "      <td>bureau.csv</td>\n",
       "      <td>CNT_CREDIT_PROLONG</td>\n",
       "      <td>How many times was the Credit Bureau credit pr...</td>\n",
       "      <td>NaN</td>\n",
       "    </tr>\n",
       "    <tr>\n",
       "      <td>132</td>\n",
       "      <td>135</td>\n",
       "      <td>bureau.csv</td>\n",
       "      <td>AMT_CREDIT_SUM</td>\n",
       "      <td>Current credit amount for the Credit Bureau cr...</td>\n",
       "      <td>NaN</td>\n",
       "    </tr>\n",
       "    <tr>\n",
       "      <td>133</td>\n",
       "      <td>136</td>\n",
       "      <td>bureau.csv</td>\n",
       "      <td>AMT_CREDIT_SUM_DEBT</td>\n",
       "      <td>Current debt on Credit Bureau credit</td>\n",
       "      <td>NaN</td>\n",
       "    </tr>\n",
       "    <tr>\n",
       "      <td>134</td>\n",
       "      <td>137</td>\n",
       "      <td>bureau.csv</td>\n",
       "      <td>AMT_CREDIT_SUM_LIMIT</td>\n",
       "      <td>Current credit limit of credit card reported i...</td>\n",
       "      <td>NaN</td>\n",
       "    </tr>\n",
       "    <tr>\n",
       "      <td>135</td>\n",
       "      <td>138</td>\n",
       "      <td>bureau.csv</td>\n",
       "      <td>AMT_CREDIT_SUM_OVERDUE</td>\n",
       "      <td>Current amount overdue on Credit Bureau credit</td>\n",
       "      <td>NaN</td>\n",
       "    </tr>\n",
       "    <tr>\n",
       "      <td>136</td>\n",
       "      <td>139</td>\n",
       "      <td>bureau.csv</td>\n",
       "      <td>CREDIT_TYPE</td>\n",
       "      <td>Type of Credit Bureau credit (Car, cash,...)</td>\n",
       "      <td>NaN</td>\n",
       "    </tr>\n",
       "    <tr>\n",
       "      <td>137</td>\n",
       "      <td>140</td>\n",
       "      <td>bureau.csv</td>\n",
       "      <td>DAYS_CREDIT_UPDATE</td>\n",
       "      <td>How many days before loan application did last...</td>\n",
       "      <td>time only relative to the application</td>\n",
       "    </tr>\n",
       "  </tbody>\n",
       "</table>\n",
       "</div>"
      ],
      "text/plain": [
       "     Unnamed: 0       Table                     Row  \\\n",
       "124         127  bureau.csv           CREDIT_ACTIVE   \n",
       "125         128  bureau.csv         CREDIT_CURRENCY   \n",
       "126         129  bureau.csv             DAYS_CREDIT   \n",
       "127         130  bureau.csv      CREDIT_DAY_OVERDUE   \n",
       "128         131  bureau.csv     DAYS_CREDIT_ENDDATE   \n",
       "129         132  bureau.csv       DAYS_ENDDATE_FACT   \n",
       "130         133  bureau.csv  AMT_CREDIT_MAX_OVERDUE   \n",
       "131         134  bureau.csv      CNT_CREDIT_PROLONG   \n",
       "132         135  bureau.csv          AMT_CREDIT_SUM   \n",
       "133         136  bureau.csv     AMT_CREDIT_SUM_DEBT   \n",
       "134         137  bureau.csv    AMT_CREDIT_SUM_LIMIT   \n",
       "135         138  bureau.csv  AMT_CREDIT_SUM_OVERDUE   \n",
       "136         139  bureau.csv             CREDIT_TYPE   \n",
       "137         140  bureau.csv      DAYS_CREDIT_UPDATE   \n",
       "\n",
       "                                           Description  \\\n",
       "124  Status of the Credit Bureau (CB) reported credits   \n",
       "125       Recoded currency of the Credit Bureau credit   \n",
       "126  How many days before current application did c...   \n",
       "127  Number of days past due on CB credit at the ti...   \n",
       "128  Remaining duration of CB credit (in days) at t...   \n",
       "129  Days since CB credit ended at the time of appl...   \n",
       "130  Maximal amount overdue on the Credit Bureau cr...   \n",
       "131  How many times was the Credit Bureau credit pr...   \n",
       "132  Current credit amount for the Credit Bureau cr...   \n",
       "133               Current debt on Credit Bureau credit   \n",
       "134  Current credit limit of credit card reported i...   \n",
       "135     Current amount overdue on Credit Bureau credit   \n",
       "136       Type of Credit Bureau credit (Car, cash,...)   \n",
       "137  How many days before loan application did last...   \n",
       "\n",
       "                                   Special  \n",
       "124                                    NaN  \n",
       "125                                recoded  \n",
       "126  time only relative to the application  \n",
       "127                                    NaN  \n",
       "128  time only relative to the application  \n",
       "129  time only relative to the application  \n",
       "130                                    NaN  \n",
       "131                                    NaN  \n",
       "132                                    NaN  \n",
       "133                                    NaN  \n",
       "134                                    NaN  \n",
       "135                                    NaN  \n",
       "136                                    NaN  \n",
       "137  time only relative to the application  "
      ]
     },
     "execution_count": 32,
     "metadata": {},
     "output_type": "execute_result"
    }
   ],
   "source": [
    "data6.loc[data6['Row'].isin(['SK_ID_BUREAU', \n",
    "                             'CREDIT_ACTIVE', \n",
    "                             'CREDIT_CURRENCY',\n",
    "                             'DAYS_CREDIT', \n",
    "                             'CREDIT_DAY_OVERDUE', \n",
    "                             'DAYS_CREDIT_ENDDATE',\n",
    "                             'DAYS_ENDDATE_FACT', \n",
    "                             'AMT_CREDIT_MAX_OVERDUE',\n",
    "                             'CNT_CREDIT_PROLONG',\n",
    "                             'AMT_CREDIT_SUM',\n",
    "                             'AMT_CREDIT_SUM_DEBT', \n",
    "                             'AMT_CREDIT_SUM_LIMIT',\n",
    "                             'AMT_CREDIT_SUM_OVERDUE',\n",
    "                             'CREDIT_TYPE', \n",
    "                             'DAYS_CREDIT_UPDATE'])]\n",
    "# 'SK_ID_CURR','AMT_ANNUITY'\n",
    "#data6['Description'].iloc[122:139].tolist()"
   ]
  },
  {
   "cell_type": "code",
   "execution_count": 18,
   "metadata": {},
   "outputs": [
    {
     "data": {
      "text/plain": [
       "'How many times was the Credit Bureau credit prolonged'"
      ]
     },
     "execution_count": 18,
     "metadata": {},
     "output_type": "execute_result"
    }
   ],
   "source": [
    "data6['Description'].iloc[131]"
   ]
  },
  {
   "cell_type": "code",
   "execution_count": null,
   "metadata": {},
   "outputs": [],
   "source": []
  }
 ],
 "metadata": {
  "kernelspec": {
   "display_name": "Python 3",
   "language": "python",
   "name": "python3"
  },
  "language_info": {
   "codemirror_mode": {
    "name": "ipython",
    "version": 3
   },
   "file_extension": ".py",
   "mimetype": "text/x-python",
   "name": "python",
   "nbconvert_exporter": "python",
   "pygments_lexer": "ipython3",
   "version": "3.7.4"
  }
 },
 "nbformat": 4,
 "nbformat_minor": 2
}
